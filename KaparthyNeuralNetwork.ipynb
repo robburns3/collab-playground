{
  "nbformat": 4,
  "nbformat_minor": 0,
  "metadata": {
    "colab": {
      "provenance": [],
      "authorship_tag": "ABX9TyP9koTmQU8jVOipBg2W/mFy",
      "include_colab_link": true
    },
    "kernelspec": {
      "name": "python3",
      "display_name": "Python 3"
    },
    "language_info": {
      "name": "python"
    }
  },
  "cells": [
    {
      "cell_type": "markdown",
      "metadata": {
        "id": "view-in-github",
        "colab_type": "text"
      },
      "source": [
        "<a href=\"https://colab.research.google.com/github/robburns3/collab-playground/blob/main/KaparthyNeuralNetwork.ipynb\" target=\"_parent\"><img src=\"https://colab.research.google.com/assets/colab-badge.svg\" alt=\"Open In Colab\"/></a>"
      ]
    },
    {
      "cell_type": "code",
      "source": [
        "import math"
      ],
      "metadata": {
        "id": "g0AOR7Q_fl2M"
      },
      "execution_count": 25,
      "outputs": []
    },
    {
      "cell_type": "code",
      "execution_count": 26,
      "metadata": {
        "colab": {
          "base_uri": "https://localhost:8080/"
        },
        "id": "m0eX6F1nRp1M",
        "outputId": "5df54c1b-501e-4354-d547-1926825765be"
      },
      "outputs": [
        {
          "output_type": "stream",
          "name": "stdout",
          "text": [
            "6.0\n"
          ]
        }
      ],
      "source": [
        "class Value:\n",
        "    \"\"\"\n",
        "    Stores a single scalar value (data) and its computed gradient.\n",
        "\n",
        "    Value can have a label for debugging/tracing and additional values\n",
        "    for constructing a graph.\n",
        "    \"\"\"\n",
        "\n",
        "    def __init__(self, data, _children=(), _op='', label=''):\n",
        "        self.data = data\n",
        "        self.grad = 0\n",
        "        self.label = label\n",
        "        # internal variables used for autograd graph construction\n",
        "        self._backward = lambda: None\n",
        "        self._prev = set(_children)\n",
        "        self._op = _op # the op that produced this node, for graphviz / debugging / etc\n",
        "\n",
        "    def __add__(self, other):\n",
        "        \"\"\"Value operation is applied as addition.\"\"\"\n",
        "        other = other if isinstance(other, Value) else Value(other)\n",
        "        out = Value(self.data + other.data, (self, other), '+')\n",
        "\n",
        "        def _backward():\n",
        "            self.grad += out.grad\n",
        "            other.grad += out.grad\n",
        "        out._backward = _backward\n",
        "\n",
        "        return out\n",
        "\n",
        "    def __mul__(self, other):\n",
        "        \"\"\"Value operation is applied as multiplication.\"\"\"\n",
        "        other = other if isinstance(other, Value) else Value(other)\n",
        "        out = Value(self.data * other.data, (self, other), '*')\n",
        "\n",
        "        def _backward():\n",
        "            self.grad += other.data * out.grad\n",
        "            other.grad += self.data * out.grad\n",
        "        out._backward = _backward\n",
        "\n",
        "        return out\n",
        "\n",
        "    def __pow__(self, other):\n",
        "        \"\"\"Value operation is applied as power.\"\"\"\n",
        "        assert isinstance(other, (int, float)), \"only supporting int/float powers for now\"\n",
        "        out = Value(self.data**other, (self,), f'**{other}')\n",
        "\n",
        "        def _backward():\n",
        "            self.grad += (other * self.data**(other-1)) * out.grad\n",
        "        out._backward = _backward\n",
        "\n",
        "        return out\n",
        "\n",
        "    def relu(self):\n",
        "        \"\"\"\n",
        "        Value operation is applied as rectified linear unit.\n",
        "        ReLU(x) = max(0, x)\n",
        "        \"\"\"\n",
        "        out = Value(0 if self.data < 0 else self.data, (self,), 'ReLU')\n",
        "\n",
        "        def _backward():\n",
        "            self.grad += (out.data > 0) * out.grad\n",
        "        out._backward = _backward\n",
        "\n",
        "        return out\n",
        "\n",
        "    def tanh(self):\n",
        "      \"\"\"\n",
        "      Value operation is applied as hyperbolic tangent.\n",
        "      tanh(x) = (e^x - e^-x) / (e^x + e^-x)\n",
        "\n",
        "      This is similar to ReLU in purpose but has different properties.\n",
        "      \"\"\"\n",
        "      out = Value(math.tanh(self.data), (self,), 'tanh')\n",
        "\n",
        "      def _backward():\n",
        "        self.grad += (1 - out.data**2) * out.grad\n",
        "      out._backward = _backward\n",
        "\n",
        "      return out\n",
        "\n",
        "    def backward(self):\n",
        "        \"\"\"Build a topological graph of the nodes and their dependencies.\"\"\"\n",
        "        # topological order all of the children in the graph\n",
        "        topo = []\n",
        "        visited = set()\n",
        "        def build_topo(v):\n",
        "            if v not in visited:\n",
        "                visited.add(v)\n",
        "                for child in v._prev:\n",
        "                    build_topo(child)\n",
        "                topo.append(v)\n",
        "        build_topo(self)\n",
        "\n",
        "        # go one variable at a time and apply the chain rule to get its gradient\n",
        "        self.grad = 1\n",
        "        for v in reversed(topo):\n",
        "            v._backward()\n",
        "\n",
        "    def __neg__(self): # -self\n",
        "        return self * -1\n",
        "\n",
        "    def __radd__(self, other): # other + self\n",
        "        return self + other\n",
        "\n",
        "    def __sub__(self, other): # self - other\n",
        "        return self + (-other)\n",
        "\n",
        "    def __rsub__(self, other): # other - self\n",
        "        return other + (-self)\n",
        "\n",
        "    def __rmul__(self, other): # other * self\n",
        "        return self * other\n",
        "\n",
        "    def __truediv__(self, other): # self / other\n",
        "        return self * other**-1\n",
        "\n",
        "    def __rtruediv__(self, other): # other / self\n",
        "        return other * self**-1\n",
        "\n",
        "    def __repr__(self):\n",
        "        return f\"Value(data={self.data}, grad={self.grad})\"\n",
        "\n",
        "a = Value(2.0, label=\"a\")\n",
        "b = Value(-3.0, label=\"b\")\n",
        "c = Value(10.0, label=\"c\")\n",
        "e = a * b; e.label = \"e\"\n",
        "d = e + c; d.label = \"d\"\n",
        "f = Value(-2.0, label=\"f\")\n",
        "L = d * f; L.label = \"L\"\n",
        "\n",
        "L.backward()\n",
        "print(a.grad)"
      ]
    },
    {
      "cell_type": "code",
      "source": [
        "import torch\n",
        "import random"
      ],
      "metadata": {
        "id": "Uri7Gbpmqsr2"
      },
      "execution_count": 27,
      "outputs": []
    },
    {
      "cell_type": "code",
      "source": [
        "x1 = torch.Tensor([2.0]).double()\n",
        "x1.requires_grad = True\n",
        "x2 = torch.Tensor([0.0]).double()\n",
        "x2.requires_grad = True\n",
        "w1 = torch.Tensor([-3.0]).double()\n",
        "w1.requires_grad = True\n",
        "w2 = torch.Tensor([1.0]).double()\n",
        "w2.requires_grad = True\n",
        "b = torch.Tensor([6.881373]).double()\n",
        "b.requires_grad = True\n",
        "\n",
        "n = x1*w1 + x2*w2 + b\n",
        "o = torch.tanh(n)\n",
        "\n",
        "print(o.data.item())\n",
        "o.backward()\n",
        "\n",
        "\n"
      ],
      "metadata": {
        "colab": {
          "base_uri": "https://localhost:8080/"
        },
        "id": "Ju-qSNMUqucg",
        "outputId": "5620499b-0abd-46a0-bb39-cee69d72f647"
      },
      "execution_count": 28,
      "outputs": [
        {
          "output_type": "stream",
          "name": "stdout",
          "text": [
            "0.7071064519863152\n"
          ]
        }
      ]
    },
    {
      "cell_type": "code",
      "source": [
        "class Neuron:\n",
        "  \"\"\"Holds a vector of output weights and a bias\"\"\"\n",
        "  def __init__(self, nin):\n",
        "    # Random initial weights\n",
        "    self.w = [Value(random.uniform(-1,1)) for _ in range(nin)]\n",
        "    # Random initial bias\n",
        "    self.b = Value(random.uniform(-1,1))\n",
        "\n",
        "  def __call__(self, x):\n",
        "    \"\"\"Activation: Take input x and apply weights and bias\"\"\"\n",
        "    # Activation function: w * x + b\n",
        "    act = sum((wi * xi for wi, xi in zip(self.w, x)), self.b)\n",
        "    out = act.tanh()\n",
        "    return out\n",
        "\n",
        "  def parameters(self):\n",
        "    return self.w + [self.b]\n",
        "\n",
        "x = [2.0, 3.0]\n",
        "n = Neuron(2)\n",
        "n(x)\n"
      ],
      "metadata": {
        "colab": {
          "base_uri": "https://localhost:8080/"
        },
        "id": "u91ajHoXsJwJ",
        "outputId": "ce1b9b82-7065-4154-aec5-76a632d44705"
      },
      "execution_count": 29,
      "outputs": [
        {
          "output_type": "execute_result",
          "data": {
            "text/plain": [
              "Value(data=0.9129434914701305, grad=0)"
            ]
          },
          "metadata": {},
          "execution_count": 29
        }
      ]
    },
    {
      "cell_type": "code",
      "source": [
        "class Layer:\n",
        "  \"\"\"Holds multiple neurons\"\"\"\n",
        "  def __init__(self, nin, nout):\n",
        "    # Neurons each with n inputs X number of total neurons\n",
        "    self.neurons = [Neuron(nin) for _ in range(nout)]\n",
        "\n",
        "  def __call__(self, x):\n",
        "    outs = [n(x) for n in self.neurons]\n",
        "    return outs[0] if len(outs) == 1 else outs\n",
        "\n",
        "  def parameters(self):\n",
        "    return [p for neuron in self.neurons for p in neuron.parameters()]\n",
        "\n",
        "x = [2.0, 3.0]\n",
        "L = Layer(2, 3)\n",
        "L(x)"
      ],
      "metadata": {
        "colab": {
          "base_uri": "https://localhost:8080/"
        },
        "id": "MvXKmMYYvH4e",
        "outputId": "dceadcc0-e0c9-465b-cb89-d06128e87ba7"
      },
      "execution_count": 30,
      "outputs": [
        {
          "output_type": "execute_result",
          "data": {
            "text/plain": [
              "[Value(data=0.33751459994410926, grad=0),\n",
              " Value(data=0.25737214784757745, grad=0),\n",
              " Value(data=-0.9989260349808334, grad=0)]"
            ]
          },
          "metadata": {},
          "execution_count": 30
        }
      ]
    },
    {
      "cell_type": "code",
      "source": [
        "class MultiLayerPerceptron:\n",
        "  def __init__(self, nin, nouts):\n",
        "    # Input layer size + hidden/output layer sizes\n",
        "    sz = [nin] + nouts\n",
        "    self.layers = [Layer(sz[i], sz[i+1]) for i in range(len(nouts))]\n",
        "\n",
        "  def __call__(self, x):\n",
        "    for layer in self.layers:\n",
        "      x = layer(x)\n",
        "    return x\n",
        "\n",
        "  def parameters(self):\n",
        "    return [p for layer in self.layers for p in layer.parameters()]\n",
        "\n",
        "\n",
        "MLP = MultiLayerPerceptron\n",
        "\n",
        "x = [2.0, 3.0, -1.0]\n",
        "n = MLP(3, [4, 4, 1])\n",
        "n(x)\n",
        "\n",
        "#n.parameters()"
      ],
      "metadata": {
        "colab": {
          "base_uri": "https://localhost:8080/"
        },
        "id": "tm3gZwqowRlG",
        "outputId": "1e734ff9-28bc-471a-f957-b8daf9f6d27d"
      },
      "execution_count": 44,
      "outputs": [
        {
          "output_type": "execute_result",
          "data": {
            "text/plain": [
              "Value(data=-0.38770384784710904, grad=0)"
            ]
          },
          "metadata": {},
          "execution_count": 44
        }
      ]
    },
    {
      "cell_type": "code",
      "source": [
        "# Intialize a new MLP\n",
        "n = MLP(3, [4, 4, 1])\n",
        "\n",
        "# Reset the neural net input/output values\n",
        "# inputs, or X\n",
        "xs = [\n",
        "    [2.0, 3.0, -1.0],\n",
        "    [3.0, -1.0, 0.5],\n",
        "    [0.5, 1.0, 1.0],\n",
        "    [1.0, 1.0, -1.0],\n",
        "]\n",
        "# desired outputs, or Y\n",
        "ys = [1.0, -1.0, -1.0, 1.0]\n",
        "\n",
        "ypred = [n(x) for x in xs]\n",
        "ypred"
      ],
      "metadata": {
        "colab": {
          "base_uri": "https://localhost:8080/"
        },
        "id": "F-Qg2MbWxxAs",
        "outputId": "65c7fa21-dee4-4e10-ab47-73ef84514197"
      },
      "execution_count": 45,
      "outputs": [
        {
          "output_type": "execute_result",
          "data": {
            "text/plain": [
              "[Value(data=0.9388501284927419, grad=0),\n",
              " Value(data=0.8415685452608842, grad=0),\n",
              " Value(data=0.8911804778465063, grad=0),\n",
              " Value(data=0.9271875882392496, grad=0)]"
            ]
          },
          "metadata": {},
          "execution_count": 45
        }
      ]
    },
    {
      "cell_type": "code",
      "source": [
        "num_steps = 20\n",
        "nudge = 0.05\n",
        "for k in range(num_steps):\n",
        "    # Forward pass\n",
        "    ypred = [n(x) for x in xs]\n",
        "    loss = sum((ypred -ytruth)**2 for ytruth, ypred in zip(ys, ypred))\n",
        "\n",
        "    # Backward pass\n",
        "    # NOTE: Common mistake is not clear the gradiant value after each backprop\n",
        "    # Need to call zero_grad() basically\n",
        "    for p in n.parameters():\n",
        "        p.grad = 0.0\n",
        "    loss.backward()\n",
        "\n",
        "    # Apply gradient descent\n",
        "    for p in n.parameters():\n",
        "        # Note that the gradiant points in the direction of the loss, so we want\n",
        "        # to go in the opposite direction to reduce the loss\n",
        "        p.data += -nudge * p.grad\n",
        "\n",
        "    print(k, loss.data)\n"
      ],
      "metadata": {
        "colab": {
          "base_uri": "https://localhost:8080/"
        },
        "id": "aoaYuEOJymAL",
        "outputId": "72a37aa4-92f2-4520-a3e1-2579761d8846"
      },
      "execution_count": 46,
      "outputs": [
        {
          "output_type": "stream",
          "name": "stdout",
          "text": [
            "0 6.9769792607738\n",
            "1 5.907351373901376\n",
            "2 3.187086792952698\n",
            "3 0.9430072982145934\n",
            "4 0.5078416587183198\n",
            "5 0.3294704302244125\n",
            "6 0.23728515052628069\n",
            "7 0.18223434652380324\n",
            "8 0.14621707678882323\n",
            "9 0.12110072102131447\n",
            "10 0.10274021774923435\n",
            "11 0.08882097382665159\n",
            "12 0.07795852306066971\n",
            "13 0.06927895008234383\n",
            "14 0.0622061213235733\n",
            "15 0.05634633908657351\n",
            "16 0.05142232458240943\n",
            "17 0.04723369118808157\n",
            "18 0.0436323576317425\n",
            "19 0.040506744535705214\n"
          ]
        }
      ]
    },
    {
      "cell_type": "code",
      "source": [
        "# Show the predictions\n",
        "# How do they compare with the inputs? Closer, but could be better\n",
        "ypred"
      ],
      "metadata": {
        "colab": {
          "base_uri": "https://localhost:8080/"
        },
        "id": "3KqRqne74sg5",
        "outputId": "5a85e060-c668-4267-f0b2-f41819620843"
      },
      "execution_count": 47,
      "outputs": [
        {
          "output_type": "execute_result",
          "data": {
            "text/plain": [
              "[Value(data=0.9702052696814796, grad=-0.05958946063704085),\n",
              " Value(data=-0.9304388286621837, grad=0.1391223426756325),\n",
              " Value(data=-0.8510347360058204, grad=0.2979305279883593),\n",
              " Value(data=0.8877965591160093, grad=-0.2244068817679814)]"
            ]
          },
          "metadata": {},
          "execution_count": 47
        }
      ]
    }
  ]
}